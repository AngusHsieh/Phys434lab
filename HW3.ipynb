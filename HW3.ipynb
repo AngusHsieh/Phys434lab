{
 "cells": [
  {
   "cell_type": "markdown",
   "id": "0c6abd6b-0e44-4089-8cd0-c3ce7e8e1b47",
   "metadata": {},
   "source": [
    "# Homework 3"
   ]
  },
  {
   "cell_type": "markdown",
   "id": "cd62e932-4a49-443f-b284-7a86293c1233",
   "metadata": {},
   "source": [
    "## Problem 1"
   ]
  },
  {
   "cell_type": "markdown",
   "id": "bae907bc-636d-49fb-b23a-7a8427512ffa",
   "metadata": {},
   "source": [
    "### a"
   ]
  },
  {
   "cell_type": "markdown",
   "id": "95c4073f-5cec-45a3-ada1-e565a5581696",
   "metadata": {},
   "source": [
    "NN makes the fewest mistakes."
   ]
  },
  {
   "cell_type": "markdown",
   "id": "3cb29466-d3c3-4a87-93c8-ed00cccbe413",
   "metadata": {},
   "source": [
    "### b"
   ]
  },
  {
   "cell_type": "markdown",
   "id": "b07ded93-cb5c-4a89-9dde-1ded30d572b3",
   "metadata": {},
   "source": [
    "NA is better for the zoo. Even though NA algorithm makes more mistakes, but most mistakes are false person identification. It only makes 1 false bird identification out of 48 birds (unlike NN which makes 3 false bird identification out of 48 birds), which minimizes the chance of birds escaping."
   ]
  },
  {
   "cell_type": "markdown",
   "id": "3c523881-b10d-4499-8fea-c6761aa2bf0b",
   "metadata": {},
   "source": [
    "### c"
   ]
  },
  {
   "cell_type": "markdown",
   "id": "f6491954-651d-4bed-93cc-ab2ff11a17bf",
   "metadata": {},
   "source": [
    "NN: <br>\n",
    "\n",
    "| | True Bird | True Person |\n",
    "| --- | --- | --- |\n",
    "| NN Bird | 93 | 0 |\n",
    "| NN Person | 6 | 1 |\n",
    "\n",
    "NA: <br>\n",
    "\n",
    "| | True Bird | True Person |\n",
    "| --- | --- | --- |\n",
    "| NN Bird | 97 | 0 |\n",
    "| NN Person | 2 | 1 |\n"
   ]
  },
  {
   "cell_type": "markdown",
   "id": "1205db10-0a61-442f-a8f1-dc10f532db8f",
   "metadata": {},
   "source": [
    "## Problem 2"
   ]
  },
  {
   "cell_type": "markdown",
   "id": "a37ec486-480a-41fb-a4e3-10afc071322b",
   "metadata": {},
   "source": [
    "### a"
   ]
  },
  {
   "cell_type": "markdown",
   "id": "877b2c30-a4eb-4a3c-8198-fa424473129b",
   "metadata": {},
   "source": [
    "$P(x) = \\frac{\\lambda_{1} \\lambda_{2}}{\\lambda_{2} - \\lambda_{2}} * (e^{-\\lambda_{1}x} - e^{-\\lambda_{2}x})$ if $\\lambda_{1} \\neq \\lambda_{2}$ <br>\n",
    "<br>\n",
    "$P(x) = \\lambda^{2}xe^{-\\lambda x}$ if $\\lambda_{1} = \\lambda_{2}$"
   ]
  },
  {
   "cell_type": "markdown",
   "id": "058ed379-49e8-4e62-b7c4-50736dc1c116",
   "metadata": {},
   "source": [
    "### b"
   ]
  },
  {
   "cell_type": "markdown",
   "id": "586ee6b7-3f6b-43e1-a0a3-84deb6f66105",
   "metadata": {},
   "source": [
    "$P(x) = \\frac{1}{\\pi} \\frac{\\frac{\\sigma_{X_1}}{\\sigma_{X_2}}}{(\\frac{X_1}{X_2})^2 + (\\frac{\\sigma_{X_1}}{\\sigma_{X_2}})^2}$"
   ]
  },
  {
   "cell_type": "markdown",
   "id": "a6620c52-0e3c-4eef-8e55-2e3b8140f9fe",
   "metadata": {},
   "source": [
    "### c"
   ]
  },
  {
   "cell_type": "markdown",
   "id": "a904628e-2996-49c4-90ad-4111761963d6",
   "metadata": {},
   "source": [
    "<br>\n",
    "$P(X,Y) = \\frac{1}{2\\pi \\sigma^2}e^{- \\frac{X^{2} \\widehat{i} + Y^{2} \\widehat{j}}{2 \\sigma^2}}$"
   ]
  },
  {
   "cell_type": "code",
   "execution_count": null,
   "id": "d3c7cdde-f4d7-4e1a-b5fa-bf0282459ddf",
   "metadata": {},
   "outputs": [],
   "source": []
  }
 ],
 "metadata": {
  "kernelspec": {
   "display_name": "Python 3",
   "language": "python",
   "name": "python3"
  },
  "language_info": {
   "codemirror_mode": {
    "name": "ipython",
    "version": 3
   },
   "file_extension": ".py",
   "mimetype": "text/x-python",
   "name": "python",
   "nbconvert_exporter": "python",
   "pygments_lexer": "ipython3",
   "version": "3.8.8"
  }
 },
 "nbformat": 4,
 "nbformat_minor": 5
}
